{
 "cells": [
  {
   "cell_type": "markdown",
   "metadata": {},
   "source": [
    "# truss-me.ipynb\n",
    "This notebook demonstrates a simple finite elements program written entirely in Python"
   ]
  },
  {
   "cell_type": "code",
   "execution_count": null,
   "metadata": {},
   "outputs": [],
   "source": [
    "%matplotlib widget\n",
    "import numpy as np\n",
    "\n",
    "from bar import Bar\n",
    "from truss import Truss\n",
    "import plotting as plots"
   ]
  },
  {
   "cell_type": "markdown",
   "metadata": {},
   "source": [
    "## Defining Element Properties"
   ]
  },
  {
   "cell_type": "code",
   "execution_count": null,
   "metadata": {},
   "outputs": [],
   "source": [
    "# Define node positions (m)\n",
    "rNodes = 1e-2 * np.array([\n",
    "    [-95.25, 0., 508],\n",
    "    [95.25, 0., 508],\n",
    "    [-95.25, 95.25, 254],\n",
    "    [95.25, 95.25, 254],\n",
    "    [95.25, -95.25, 254],\n",
    "    [-95.25, -95.25, 254],\n",
    "    [-254., 254, 0],\n",
    "    [254., 254, 0],\n",
    "    [254., -254, 0],\n",
    "    [-254., -254, 0]\n",
    "])\n",
    "nNodes = len(rNodes)\n",
    "\n",
    "# Define element nodes (2 per Bar element)\n",
    "eNodes = np.array([\n",
    "    [0,1], [0,3], [1,2], [0,4], [1,5],\n",
    "    [1,3], [1,4], [0,2], [0,5], [2,5],\n",
    "    [3,4], [2,3], [4,5], [2,9], [5,6],\n",
    "    [3,8], [4,7], [3,6], [2,7], [4,9],\n",
    "    [5,8], [5,9], [2,6], [4,8], [3,7],\n",
    "])\n",
    "nEl = len(eNodes)\n",
    "\n",
    "# Define element areas (m^2), Young's moduli (Pa), & densities (kg/m^3)\n",
    "elAs = 1e-4 * np.array([\n",
    "    .213, 13, 13, 13, 13,\n",
    "    18.213, 18.213, 18.213, 18.213, 0.065,\n",
    "    0.065, 0.09, 0.09, 6.323, 6.323,\n",
    "    6.323, 6.323, 11.355, 11.355, 11.355,\n",
    "    11.355, 15.742, 15.742, 15.742, 15.742,\n",
    "])\n",
    "elYs = np.full(nEl, 6.89e10)\n",
    "elDens = np.full(nEl, 2.7e3)"
   ]
  },
  {
   "cell_type": "markdown",
   "metadata": {},
   "source": [
    "## Define Forcing Conditions\n",
    "Our next step is to define the forcing conditions we wish to apply to our truss structure (including any fixed nodes which are not free to react to applied forces)."
   ]
  },
  {
   "cell_type": "code",
   "execution_count": null,
   "metadata": {},
   "outputs": [],
   "source": [
    "# Define nodal degrees of freedom (1:free; 0:fixed)\n",
    "fixNodes = np.array([[3*i, 3*i+1, 3*i+2] for i in [6, 7, 8, 9]]).flatten()\n",
    "DOF = np.array([1 for i in range(3*nNodes)])\n",
    "DOF[fixNodes] = 0\n",
    "\n",
    "# Define applied nodal forces (N) as a flat vector\n",
    "FNodes = [0, 1, 2, 5]\n",
    "FVals = np.array([\n",
    "    [4448.222, 44482.216,-22241.108],\n",
    "    [0., 44482.216, -22241.108],\n",
    "    [2224.111, 0., 0.],\n",
    "    [2224.111, 0., 0.]\n",
    "])\n",
    "nFs = np.zeros((nNodes,3))\n",
    "nFs[FNodes] = FVals\n",
    "nFs = nFs.flatten()"
   ]
  },
  {
   "cell_type": "markdown",
   "metadata": {},
   "source": [
    "## Create a Truss & Apply Forces\n",
    "Finally we can create a truss structure using node and element information, and solve the elastodynamic equations to retrieve displacements and strains in the structure."
   ]
  },
  {
   "cell_type": "code",
   "execution_count": null,
   "metadata": {},
   "outputs": [],
   "source": [
    "truss = Truss(elYs, elDens, elAs, rNodes, eNodes)\n",
    "truss.applyForces(DOF,nFs)"
   ]
  },
  {
   "cell_type": "markdown",
   "metadata": {},
   "source": [
    "## Plot Results"
   ]
  },
  {
   "cell_type": "code",
   "execution_count": null,
   "metadata": {},
   "outputs": [],
   "source": [
    "plots.plot_struct(truss)\n",
    "plots.plot_disps(truss, magnify=100)\n",
    "plots.plot_stress(truss)"
   ]
  }
 ],
 "metadata": {
  "kernelspec": {
   "display_name": "Python 3",
   "language": "python",
   "name": "python3"
  },
  "language_info": {
   "codemirror_mode": {
    "name": "ipython",
    "version": 3
   },
   "file_extension": ".py",
   "mimetype": "text/x-python",
   "name": "python",
   "nbconvert_exporter": "python",
   "pygments_lexer": "ipython3",
   "version": "3.11.4"
  },
  "orig_nbformat": 4
 },
 "nbformat": 4,
 "nbformat_minor": 2
}
